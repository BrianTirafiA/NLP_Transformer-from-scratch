{
  "nbformat": 4,
  "nbformat_minor": 0,
  "metadata": {
    "colab": {
      "provenance": []
    },
    "kernelspec": {
      "name": "python3",
      "display_name": "Python 3"
    },
    "language_info": {
      "name": "python"
    }
  },
  "cells": [
    {
      "cell_type": "markdown",
      "source": [
        "# **Tugas Individu: Implementasi Arsitektur Transformer dari Nol dengan NumPy**\n",
        "\n",
        "**Nama:** Brian Tirafi Aufauzan\n",
        "\n",
        "**NIM:** 22/497916/TK/54592\n",
        "\n",
        "Notebook ini berisi implementasi forward pass dari arsitektur decoder-only Transformer (GPT-style) menggunakan NumPy. Setiap komponen utama diimplementasikan dalam sel terpisah secara modular untuk kejelasan."
      ],
      "metadata": {
        "id": "I_UCTRDuROko"
      }
    },
    {
      "cell_type": "markdown",
      "source": [
        "#  0. Setup Awal\n",
        "\n",
        " Pertama, kita impor library yang dibutuhkan dan mendefinisikan beberapa hyperparameter dasar. Kita menambahkan `matplotlib` dan `seaborn` untuk visualisasi."
      ],
      "metadata": {
        "id": "cg7NANagVcTZ"
      }
    },
    {
      "cell_type": "code",
      "execution_count": 17,
      "metadata": {
        "id": "My8uw3pXRL_0"
      },
      "outputs": [],
      "source": [
        "import numpy as np\n",
        "import matplotlib.pyplot as plt\n",
        "import seaborn as sns\n",
        "\n",
        "# Hyperparameters\n",
        "vocab_size = 1000   # Ukuran kosakata\n",
        "d_model = 512       # Dimensi embedding\n",
        "num_heads = 8         # Jumlah attention heads\n",
        "d_ff = 2048         # Dimensi hidden layer di Feed-Forward Network\n",
        "seq_len = 100         # Panjang maksimum sekuens\n",
        "batch_size = 32     # Ukuran batch\n",
        "num_layers = 1      # Untuk tugas ini, kita hanya butuh 1 blok decoder\n",
        "\n",
        "# Pastikan d_model dapat dibagi rata oleh num_heads\n",
        "assert d_model % num_heads == 0\n",
        "d_k = d_model // num_heads # Dimensi Key/Query per head"
      ]
    },
    {
      "cell_type": "markdown",
      "source": [
        "# 1. Token Embedding\n",
        "\n",
        "Lapisan ini mengubah input berupa token (angka integer) menjadi vektor padat (dense vectors). Secara konseptual, ini adalah tabel pencarian (lookup table) di mana setiap baris merepresentasikan vektor embedding untuk satu token dalam kosakata. Di sini, kita akan menginisialisasi tabel embedding secara acak."
      ],
      "metadata": {
        "id": "g9sSJm00Vvip"
      }
    },
    {
      "cell_type": "code",
      "source": [
        "embedding_matrix = np.random.randn(vocab_size, d_model)\n",
        "\n",
        "def token_embedding(input_tokens, weights):\n",
        "    \"\"\"\n",
        "    Mengambil token integer dan memetakannya ke vektor embedding.\n",
        "\n",
        "    Args:\n",
        "    - input_tokens (np.array): Array integer dengan shape (batch_size, seq_len).\n",
        "    - weights (np.array): Matriks embedding dengan shape (vocab_size, d_model).\n",
        "\n",
        "    Returns:\n",
        "    - np.array: Vektor embedding dengan shape (batch_size, seq_len, d_model).\n",
        "    \"\"\"\n",
        "    return weights[input_tokens]"
      ],
      "metadata": {
        "id": "TkORvXLyV9GJ"
      },
      "execution_count": 18,
      "outputs": []
    },
    {
      "cell_type": "markdown",
      "source": [
        "#  2. Positional Encoding\n",
        "\n",
        "Kita akan mengimplementasikan dua jenis positional encoding: sinusoidal (sebagai referensi) dan Rotary Positional Encoding (RoPE) sebagai fitur tambahan."
      ],
      "metadata": {
        "id": "2Cm4eb5rWBLA"
      }
    },
    {
      "cell_type": "markdown",
      "source": [
        "## 2a. Sinusoidal Positional Encoding (Referensi)"
      ],
      "metadata": {
        "id": "fSdUuU7GWZbY"
      }
    },
    {
      "cell_type": "code",
      "source": [
        "def positional_encoding(seq_len, d_model):\n",
        "    \"\"\"\n",
        "    Membuat matriks sinusoidal positional encoding.\n",
        "\n",
        "    Args:\n",
        "    - seq_len (int): Panjang sekuens.\n",
        "    - d_model (int): Dimensi model/embedding.\n",
        "\n",
        "    Returns:\n",
        "    - np.array: Matriks positional encoding dengan shape (seq_len, d_model).\n",
        "    \"\"\"\n",
        "    positions = np.arange(seq_len)[:, np.newaxis]\n",
        "    div_term = np.exp(np.arange(0, d_model, 2) * -(np.log(10000.0) / d_model))\n",
        "\n",
        "    pe = np.zeros((seq_len, d_model))\n",
        "    pe[:, 0::2] = np.sin(positions * div_term)\n",
        "    pe[:, 1::2] = np.cos(positions * div_term)\n",
        "\n",
        "    return pe"
      ],
      "metadata": {
        "id": "9pHdiNlBWgo4"
      },
      "execution_count": 19,
      "outputs": []
    },
    {
      "cell_type": "markdown",
      "source": [
        "## 2b. Tambahan: Rotary Positional Encoding (RoPE)\n",
        "\n",
        "RoPE adalah metode yang lebih canggih yang meng-encode informasi posisi dengan\n",
        "*memutar* vektor Query dan Key pada bidang 2D, bukan dengan menambahkannya.\n",
        "Ini terbukti lebih efektif dalam menangkap dependensi posisi relatif.\n",
        "\n",
        "\n",
        "\n"
      ],
      "metadata": {
        "id": "PsQWZVUbWnOQ"
      }
    },
    {
      "cell_type": "code",
      "source": [
        "class RotaryPositionalEncoding:\n",
        "    def __init__(self, dim, seq_len, theta=10000.0):\n",
        "        # Pre-compute the frequencies\n",
        "        theta_vals = 1.0 / (theta ** (np.arange(0, dim, 2) / dim))\n",
        "        positions = np.arange(seq_len)\n",
        "        freqs = np.outer(positions, theta_vals)\n",
        "        # `freqs` sekarang adalah (seq_len, dim/2)\n",
        "\n",
        "        # Konversi ke bentuk kompleks: polar(r, theta) = r * e^(i*theta)\n",
        "        # Di sini, radius (r) adalah 1.\n",
        "        self.freqs_complex = np.exp(1j * freqs) # Shape: (seq_len, dim/2)\n",
        "\n",
        "    def apply_rotary_emb(self, x):\n",
        "        \"\"\"\n",
        "        Menerapkan RoPE pada input tensor x.\n",
        "        Args:\n",
        "        - x (np.array): Input tensor (Q atau K) dengan shape (batch, heads, seq_len, d_k).\n",
        "\n",
        "        Returns:\n",
        "        - np.array: Tensor yang telah diputar.\n",
        "        \"\"\"\n",
        "        # Reshape x menjadi pasangan: (..., seq_len, d_k/2, 2)\n",
        "        x_complex = x.astype(np.complex64).reshape(*x.shape[:-1], -1, 2)\n",
        "        x_complex = x_complex[..., 0] + 1j * x_complex[..., 1]\n",
        "\n",
        "        # Reshape freqs_complex untuk broadcasting: (1, 1, seq_len, d_k/2)\n",
        "        freqs = self.freqs_complex.reshape(1, 1, *self.freqs_complex.shape)\n",
        "\n",
        "        # Lakukan perkalian element-wise dalam domain kompleks\n",
        "        x_rotated_complex = x_complex * freqs\n",
        "\n",
        "        # Pisahkan kembali ke bagian real dan imajiner\n",
        "        x_out = np.zeros_like(x)\n",
        "        x_out[..., 0::2] = np.real(x_rotated_complex)\n",
        "        x_out[..., 1::2] = np.imag(x_rotated_complex)\n",
        "\n",
        "        return x_out.reshape(*x.shape)"
      ],
      "metadata": {
        "id": "TGoPqrOCW5B4"
      },
      "execution_count": 20,
      "outputs": []
    },
    {
      "cell_type": "markdown",
      "source": [
        "# 7. Causal Masking\n",
        "Didefinisikan sebelum Attention agar bisa digunakan di dalamnya"
      ],
      "metadata": {
        "id": "pvB6wR7BW-ZB"
      }
    },
    {
      "cell_type": "code",
      "source": [
        "def create_causal_mask(size):\n",
        "    mask = np.triu(np.ones((size, size)), k=1)\n",
        "    return mask * -1e9"
      ],
      "metadata": {
        "id": "iGll_Q6OXWlu"
      },
      "execution_count": 21,
      "outputs": []
    },
    {
      "cell_type": "markdown",
      "source": [
        "# 3. Scaled Dot-Product Attention"
      ],
      "metadata": {
        "id": "WUiQTglsXdYO"
      }
    },
    {
      "cell_type": "code",
      "source": [
        "def softmax(x):\n",
        "    e_x = np.exp(x - np.max(x, axis=-1, keepdims=True))\n",
        "    return e_x / np.sum(e_x, axis=-1, keepdims=True)\n",
        "\n",
        "def scaled_dot_product_attention(Q, K, V, mask=None):\n",
        "    scores = np.matmul(Q, K.swapaxes(-2, -1)) / np.sqrt(K.shape[-1])\n",
        "    if mask is not None:\n",
        "        scores += mask\n",
        "    attention_weights = softmax(scores)\n",
        "    output = np.matmul(attention_weights, V)\n",
        "    return output, attention_weights"
      ],
      "metadata": {
        "id": "nO6URZctXhqf"
      },
      "execution_count": 22,
      "outputs": []
    },
    {
      "cell_type": "markdown",
      "source": [
        "# 4. Multi-Head Attention (Dimodifikasi untuk RoPE)\n",
        "Versi ini dimodifikasi untuk menerima dan menerapkan RoPE."
      ],
      "metadata": {
        "id": "RKA2lww5XixG"
      }
    },
    {
      "cell_type": "code",
      "source": [
        "class MultiHeadAttention:\n",
        "    def __init__(self, d_model, num_heads):\n",
        "        self.d_model = d_model\n",
        "        self.num_heads = num_heads\n",
        "        self.d_k = d_model // num_heads\n",
        "\n",
        "        self.W_q = np.random.randn(d_model, d_model)\n",
        "        self.W_k = np.random.randn(d_model, d_model)\n",
        "        self.W_v = np.random.randn(d_model, d_model)\n",
        "        self.W_o = np.random.randn(d_model, d_model)\n",
        "\n",
        "    def split_heads(self, x, batch_size):\n",
        "        x = x.reshape(batch_size, -1, self.num_heads, self.d_k)\n",
        "        return x.transpose(0, 2, 1, 3)\n",
        "\n",
        "    def forward(self, x, mask, rope=None): # Tambahkan argumen rope\n",
        "        batch_size = x.shape[0]\n",
        "\n",
        "        Q = x @ self.W_q\n",
        "        K = x @ self.W_k\n",
        "        V = x @ self.W_v\n",
        "\n",
        "        Q = self.split_heads(Q, batch_size)\n",
        "        K = self.split_heads(K, batch_size)\n",
        "        V = self.split_heads(V, batch_size)\n",
        "\n",
        "        # Terapkan RoPE jika disediakan\n",
        "        if rope is not None:\n",
        "            Q = rope.apply_rotary_emb(Q)\n",
        "            K = rope.apply_rotary_emb(K)\n",
        "\n",
        "        attention_output, attention_weights = scaled_dot_product_attention(Q, K, V, mask)\n",
        "\n",
        "        attention_output = attention_output.transpose(0, 2, 1, 3).reshape(batch_size, -1, self.d_model)\n",
        "\n",
        "        output = attention_output @ self.W_o\n",
        "        return output, attention_weights"
      ],
      "metadata": {
        "id": "yNomfRBbXqru"
      },
      "execution_count": 23,
      "outputs": []
    },
    {
      "cell_type": "markdown",
      "source": [
        "# 5. Feed-Forward Network (FFN)"
      ],
      "metadata": {
        "id": "UA_uJ6A6XrUu"
      }
    },
    {
      "cell_type": "code",
      "source": [
        "class FeedForwardNetwork:\n",
        "    def __init__(self, d_model, d_ff):\n",
        "        self.W1 = np.random.randn(d_model, d_ff)\n",
        "        self.b1 = np.zeros(d_ff)\n",
        "        self.W2 = np.random.randn(d_ff, d_model)\n",
        "        self.b2 = np.zeros(d_model)\n",
        "\n",
        "    def relu(self, x):\n",
        "        return np.maximum(0, x)\n",
        "\n",
        "    def forward(self, x):\n",
        "        x = self.relu((x @ self.W1) + self.b1)\n",
        "        x = (x @ self.W2) + self.b2\n",
        "        return x"
      ],
      "metadata": {
        "id": "7zPBT9BpXxA-"
      },
      "execution_count": 24,
      "outputs": []
    },
    {
      "cell_type": "markdown",
      "source": [
        "# 6. Residual Connection + Layer Normalization"
      ],
      "metadata": {
        "id": "3onBVtpaXx6e"
      }
    },
    {
      "cell_type": "code",
      "source": [
        "class LayerNorm:\n",
        "    def __init__(self, d_model, epsilon=1e-5):\n",
        "        self.gamma = np.ones(d_model)\n",
        "        self.beta = np.zeros(d_model)\n",
        "        self.epsilon = epsilon\n",
        "\n",
        "    def forward(self, x):\n",
        "        mean = np.mean(x, axis=-1, keepdims=True)\n",
        "        std = np.std(x, axis=-1, keepdims=True)\n",
        "        return self.gamma * (x - mean) / (std + self.epsilon) + self.beta\n",
        "\n",
        "# ## Merakit Satu Blok Decoder Transformer (Dimodifikasi untuk RoPE)\n",
        "class TransformerDecoderBlock:\n",
        "    def __init__(self, d_model, num_heads, d_ff):\n",
        "        self.mha = MultiHeadAttention(d_model, num_heads)\n",
        "        self.ffn = FeedForwardNetwork(d_model, d_ff)\n",
        "        self.ln1 = LayerNorm(d_model)\n",
        "        self.ln2 = LayerNorm(d_model)\n",
        "\n",
        "    def forward(self, x, mask, rope=None): # Tambahkan argumen rope\n",
        "        norm_x = self.ln1.forward(x)\n",
        "        attn_output, attn_weights = self.mha.forward(norm_x, mask, rope) # Kirim rope ke MHA\n",
        "        x = x + attn_output\n",
        "\n",
        "        norm_x = self.ln2.forward(x)\n",
        "        ffn_output = self.ffn.forward(norm_x)\n",
        "        x = x + ffn_output\n",
        "\n",
        "        return x, attn_weights"
      ],
      "metadata": {
        "id": "hb5KP_C8X0L-"
      },
      "execution_count": 25,
      "outputs": []
    },
    {
      "cell_type": "markdown",
      "source": [
        "# 8. Output Layer dan Model Lengkap (Dengan RoPE & Weight Tying)\n",
        "Tambahan: Weight Tying\n",
        "Teknik ini berbagi bobot antara matriks token embedding dan lapisan output akhir. Ini mengurangi jumlah parameter total dan meningkatkan kinerja model.\n",
        "Bobot output adalah transpos dari bobot embedding (`W_out = W_emb.T`)."
      ],
      "metadata": {
        "id": "fM_i9GAQX3yW"
      }
    },
    {
      "cell_type": "code",
      "source": [
        "class DecoderOnlyTransformer:\n",
        "    def __init__(self, vocab_size, d_model, num_heads, d_ff, seq_len):\n",
        "        self.embedding_weights = np.random.randn(vocab_size, d_model)\n",
        "        # Inisialisasi RoPE\n",
        "        # FIX: Calculate d_k locally based on the provided d_model and num_heads\n",
        "        # instead of relying on a global variable.\n",
        "        d_k = d_model // num_heads\n",
        "        self.rope = RotaryPositionalEncoding(dim=d_k, seq_len=seq_len)\n",
        "        self.decoder_block = TransformerDecoderBlock(d_model, num_heads, d_ff)\n",
        "        self.final_ln = LayerNorm(d_model)\n",
        "        # Tidak perlu `output_layer_weights` karena kita menggunakan weight tying\n",
        "\n",
        "    def forward(self, input_tokens, mask):\n",
        "        # 1. Embedding\n",
        "        x = token_embedding(input_tokens, self.embedding_weights)\n",
        "        # Tidak ada penambahan positional encoding, karena RoPE diterapkan di dalam MHA\n",
        "\n",
        "        # 2. Transformer Decoder Block\n",
        "        x, attn_weights = self.decoder_block.forward(x, mask, self.rope)\n",
        "\n",
        "        # 3. Final Layer Norm\n",
        "        x = self.final_ln.forward(x)\n",
        "\n",
        "        # 4. Output Layer dengan Weight Tying\n",
        "        logits = x @ self.embedding_weights.T\n",
        "\n",
        "        return logits, attn_weights"
      ],
      "metadata": {
        "id": "D4o5U9TvYA9e"
      },
      "execution_count": 26,
      "outputs": []
    },
    {
      "cell_type": "markdown",
      "source": [
        "# Testing"
      ],
      "metadata": {
        "id": "_mumS5u1YEzf"
      }
    },
    {
      "cell_type": "code",
      "source": [
        "# Mari kita uji alur forward pass yang sudah dimodifikasi.\n",
        "# --- PARAMETER UJI ---\n",
        "test_batch_size = 2\n",
        "test_seq_len = 10\n",
        "\n",
        "# --- 1. BUAT INPUT DUMMY ---\n",
        "dummy_input_tokens = np.random.randint(0, vocab_size, size=(test_batch_size, test_seq_len))\n",
        "causal_mask = create_causal_mask(test_seq_len)\n",
        "\n",
        "# --- 2. INISIALISASI & JALANKAN MODEL ---\n",
        "test_d_model = 64\n",
        "test_num_heads = 4\n",
        "test_d_ff = 128\n",
        "assert test_d_model % test_num_heads == 0\n",
        "\n",
        "model = DecoderOnlyTransformer(\n",
        "    vocab_size=vocab_size,\n",
        "    d_model=test_d_model,\n",
        "    num_heads=test_num_heads,\n",
        "    d_ff=test_d_ff,\n",
        "    seq_len=test_seq_len\n",
        ")\n",
        "\n",
        "# Jalankan forward pass\n",
        "logits, attention_weights = model.forward(dummy_input_tokens, causal_mask)\n",
        "\n",
        "# --- 3. VERIFIKASI OUTPUT ---\n",
        "print(f\"Bentuk output logits: {logits.shape}\")\n",
        "print(f\"Bentuk yang diharapkan: ({test_batch_size}, {test_seq_len}, {vocab_size})\")\n",
        "assert logits.shape == (test_batch_size, test_seq_len, vocab_size)\n",
        "print(\"--> Cek dimensi BERHASIL.\\n\")\n",
        "\n",
        "last_token_logits = logits[:, -1, :]\n",
        "next_token_probs = softmax(last_token_logits)\n",
        "prob_sums = np.sum(next_token_probs, axis=-1)\n",
        "print(f\"Jumlah probabilitas per item batch: {prob_sums}\")\n",
        "assert np.allclose(prob_sums, 1.0)\n",
        "print(\"--> Cek softmax & weight tying BERHASIL.\\n\")\n",
        "\n",
        "\n",
        "# --- 4. Tambahan: Visualisasi Distribusi Attention ---\n",
        "# Fungsi ini akan menggambar heatmap dari matriks attention untuk menunjukkan\n",
        "# token mana yang paling diperhatikan oleh token lain.\n",
        "def visualize_attention(weights, sentence_tokens):\n",
        "    \"\"\"\n",
        "    Membuat heatmap dari matriks attention.\n",
        "\n",
        "    Args:\n",
        "    - weights (np.array): Matriks attention weights (seq_len, seq_len).\n",
        "    - sentence_tokens (np.array): Token input untuk label.\n",
        "    \"\"\"\n",
        "    plt.figure(figsize=(8, 6))\n",
        "    sns.heatmap(weights, annot=False, cmap='viridis',\n",
        "                xticklabels=sentence_tokens, yticklabels=sentence_tokens)\n",
        "    plt.title(\"Visualisasi Matriks Attention (Head 0, Batch 0)\")\n",
        "    plt.xlabel(\"Key Positions\")\n",
        "    plt.ylabel(\"Query Positions\")\n",
        "    plt.show()\n",
        "\n",
        "# Ambil bobot dari item pertama di batch dan head pertama\n",
        "sample_weights = attention_weights[0, 0, :, :]\n",
        "print(\"Matriks Attention Weights (head 0, batch 0):\")\n",
        "print(np.round(sample_weights, 2))\n",
        "print(\"\\n--> Cek masking masih bekerja dengan RoPE, nilai di atas diagonal utama adalah 0.\")\n",
        "\n",
        "# Buat label dummy untuk plot\n",
        "dummy_labels = [f\"token_{i}\" for i in range(test_seq_len)]\n",
        "visualize_attention(sample_weights, dummy_labels)"
      ],
      "metadata": {
        "colab": {
          "base_uri": "https://localhost:8080/",
          "height": 952
        },
        "id": "mdq5SXicYGSu",
        "outputId": "32018a39-b314-4021-d7a1-955c61c776cd"
      },
      "execution_count": 29,
      "outputs": [
        {
          "output_type": "stream",
          "name": "stdout",
          "text": [
            "Bentuk output logits: (2, 10, 1000)\n",
            "Bentuk yang diharapkan: (2, 10, 1000)\n",
            "--> Cek dimensi BERHASIL.\n",
            "\n",
            "Jumlah probabilitas per item batch: [1. 1.]\n",
            "--> Cek softmax & weight tying BERHASIL.\n",
            "\n",
            "Matriks Attention Weights (head 0, batch 0):\n",
            "[[1.   0.   0.   0.   0.   0.   0.   0.   0.   0.  ]\n",
            " [1.   0.   0.   0.   0.   0.   0.   0.   0.   0.  ]\n",
            " [0.   0.   1.   0.   0.   0.   0.   0.   0.   0.  ]\n",
            " [0.89 0.11 0.   0.   0.   0.   0.   0.   0.   0.  ]\n",
            " [1.   0.   0.   0.   0.   0.   0.   0.   0.   0.  ]\n",
            " [0.   1.   0.   0.   0.   0.   0.   0.   0.   0.  ]\n",
            " [0.   0.   0.   0.   0.   1.   0.   0.   0.   0.  ]\n",
            " [0.   0.   0.   0.   0.   0.   0.   1.   0.   0.  ]\n",
            " [0.   0.   0.   0.   0.   0.   0.   1.   0.   0.  ]\n",
            " [0.   0.   0.   0.   0.   0.   0.   0.   1.   0.  ]]\n",
            "\n",
            "--> Cek masking masih bekerja dengan RoPE, nilai di atas diagonal utama adalah 0.\n"
          ]
        },
        {
          "output_type": "display_data",
          "data": {
            "text/plain": [
              "<Figure size 800x600 with 2 Axes>"
            ],
            "image/png": "[encoded data removed]"
          },
          "metadata": {}
        }
      ]
    },
    {
      "cell_type": "code",
      "source": [],
      "metadata": {
        "id": "E4Lqrc_bYO2w"
      },
      "execution_count": 27,
      "outputs": []
    }
  ]
}